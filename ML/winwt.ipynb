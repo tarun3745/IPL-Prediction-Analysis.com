{
  "nbformat": 4,
  "nbformat_minor": 0,
  "metadata": {
    "colab": {
      "name": "IPL_win_pred",
      "provenance": [],
      "collapsed_sections": []
    },
    "kernelspec": {
      "name": "python3",
      "display_name": "Python 3"
    },
    "language_info": {
      "name": "python"
    }
  },
  "cells": [
    {
      "cell_type": "code",
      "metadata": {
        "id": "DMQEAt_wHWlN"
      },
      "source": [
        "import numpy as np\n",
        "import pandas as pd\n",
        "import matplotlib.pyplot as plt\n",
        "import seaborn as sns\n",
        "from sklearn.preprocessing import LabelEncoder\n",
        "from sklearn.ensemble import RandomForestClassifier\n",
        "from sklearn.linear_model import LogisticRegression\n",
        "from sklearn.model_selection import train_test_split\n",
        "from sklearn.feature_selection import RFE\n",
        "from sklearn.preprocessing import StandardScaler\n",
        "from sklearn.svm import SVC\n",
        "from sklearn.tree import DecisionTreeClassifier\n",
        "from sklearn.metrics import confusion_matrix, classification_report\n",
        "import pickle"
      ],
      "execution_count": null,
      "outputs": []
    },
    {
      "cell_type": "code",
      "metadata": {
        "id": "Eq4qcixPIEq-"
      },
      "source": [
        "matches=pd.read_csv('matches.csv')"
      ],
      "execution_count": null,
      "outputs": []
    },
    {
      "cell_type": "code",
      "metadata": {
        "colab": {
          "base_uri": "https://localhost:8080/"
        },
        "id": "GT11wCNeIMOy",
        "outputId": "3f7cdc7c-99fd-4d2c-a3ee-a1e9997e706d"
      },
      "source": [
        "null_columns=matches.isnull().sum()\n",
        "print(null_columns[null_columns > 0])"
      ],
      "execution_count": null,
      "outputs": [
        {
          "output_type": "stream",
          "text": [
            "city                 7\n",
            "winner               4\n",
            "player_of_match      4\n",
            "umpire1              2\n",
            "umpire2              2\n",
            "umpire3            637\n",
            "dtype: int64\n"
          ],
          "name": "stdout"
        }
      ]
    },
    {
      "cell_type": "code",
      "metadata": {
        "id": "bwHIXY3QIOt6"
      },
      "source": [
        "conditions = [matches[\"venue\"] == \"Rajiv Gandhi International Stadium, Uppal\",matches[\"venue\"] == \"Maharashtra Cricket Association Stadium\",\n",
        "              matches[\"venue\"] == \"Saurashtra Cricket Association Stadium\", matches[\"venue\"] == \"Holkar Cricket Stadium\",\n",
        "              matches[\"venue\"] == \"M Chinnaswamy Stadium\",matches[\"venue\"] == \"Wankhede Stadium\",\n",
        "              matches[\"venue\"] == \"Eden Gardens\",matches[\"venue\"] == \"Feroz Shah Kotla\",\n",
        "              matches[\"venue\"] == \"Punjab Cricket Association IS Bindra Stadium, Mohali\",matches[\"venue\"] == \"Green Park\",\n",
        "              matches[\"venue\"] == \"Punjab Cricket Association Stadium, Mohali\",matches[\"venue\"] == \"Dr DY Patil Sports Academy\",\n",
        "              matches[\"venue\"] == \"Sawai Mansingh Stadium\", matches[\"venue\"] == \"MA Chidambaram Stadium, Chepauk\", \n",
        "              matches[\"venue\"] == \"Newlands\", matches[\"venue\"] == \"St George's Park\" , \n",
        "              matches[\"venue\"] == \"Kingsmead\", matches[\"venue\"] == \"SuperSport Park\",\n",
        "              matches[\"venue\"] == \"Buffalo Park\", matches[\"venue\"] == \"New Wanderers Stadium\",\n",
        "              matches[\"venue\"] == \"De Beers Diamond Oval\", matches[\"venue\"] == \"OUTsurance Oval\", \n",
        "              matches[\"venue\"] == \"Brabourne Stadium\",matches[\"venue\"] == \"Sardar Patel Stadium\", \n",
        "              matches[\"venue\"] == \"Barabati Stadium\", matches[\"venue\"] == \"Vidarbha Cricket Association Stadium, Jamtha\",\n",
        "              matches[\"venue\"] == \"Himachal Pradesh Cricket Association Stadium\",matches[\"venue\"] == \"Nehru Stadium\",\n",
        "              matches[\"venue\"] == \"Dr. Y.S. Rajasekhara Reddy ACA-VDCA Cricket Stadium\",matches[\"venue\"] == \"Subrata Roy Sahara Stadium\",\n",
        "              matches[\"venue\"] == \"Shaheed Veer Narayan Singh International Stadium\",matches[\"venue\"] == \"JSCA International Stadium Complex\",\n",
        "              matches[\"venue\"] == \"Sheikh Zayed Stadium\",matches[\"venue\"] == \"Sharjah Cricket Stadium\",\n",
        "              matches[\"venue\"] == \"Dubai International Cricket Stadium\",matches[\"venue\"] == \"M. A. Chidambaram Stadium\",\n",
        "              matches[\"venue\"] == \"Feroz Shah Kotla Ground\",matches[\"venue\"] == \"M. Chinnaswamy Stadium\",\n",
        "              matches[\"venue\"] == \"Rajiv Gandhi Intl. Cricket Stadium\" ,matches[\"venue\"] == \"IS Bindra Stadium\",matches[\"venue\"] == \"ACA-VDCA Stadium\"]\n",
        "values = ['Hyderabad', 'Mumbai', 'Rajkot',\"Indore\",\"Bengaluru\",\"Mumbai\",\"Kolkata\",\"Delhi\",\"Mohali\",\"Kanpur\",\"Mohali\",\"Pune\",\"Jaipur\",\"Chennai\",\"Cape Town\",\"Port Elizabeth\",\"Durban\",\n",
        "          \"Centurion\",'Eastern Cape','Johannesburg','Northern Cape','Bloemfontein','Mumbai','Ahmedabad','Cuttack','Jamtha','Dharamshala','Chennai','Visakhapatnam','Pune','Raipur','Ranchi',\n",
        "          'Abu Dhabi','Sharjah','Dubai','Chennai','Delhi','Bengaluru','Hyderabad','Mohali','Visakhapatnam']\n",
        "matches['city'] = np.where(matches['city'].isnull(),\n",
        "                              np.select(conditions, values),\n",
        "                              matches['city'])"
      ],
      "execution_count": null,
      "outputs": []
    },
    {
      "cell_type": "code",
      "metadata": {
        "colab": {
          "base_uri": "https://localhost:8080/",
          "height": 897
        },
        "id": "QC0MxEGuIS-G",
        "outputId": "fd6e59c3-ffbd-40f8-e915-5aee30969825"
      },
      "source": [
        "null_columns=matches.isnull().sum()\n",
        "print(null_columns[null_columns > 0])\n",
        "\n",
        "#Removing records having null values in \"winner\" column\n",
        "matches=matches[matches[\"winner\"].notna()]\n",
        "matches\n"
      ],
      "execution_count": null,
      "outputs": [
        {
          "output_type": "stream",
          "text": [
            "winner               4\n",
            "player_of_match      4\n",
            "umpire1              2\n",
            "umpire2              2\n",
            "umpire3            637\n",
            "dtype: int64\n"
          ],
          "name": "stdout"
        },
        {
          "output_type": "execute_result",
          "data": {
            "text/html": [
              "<div>\n",
              "<style scoped>\n",
              "    .dataframe tbody tr th:only-of-type {\n",
              "        vertical-align: middle;\n",
              "    }\n",
              "\n",
              "    .dataframe tbody tr th {\n",
              "        vertical-align: top;\n",
              "    }\n",
              "\n",
              "    .dataframe thead th {\n",
              "        text-align: right;\n",
              "    }\n",
              "</style>\n",
              "<table border=\"1\" class=\"dataframe\">\n",
              "  <thead>\n",
              "    <tr style=\"text-align: right;\">\n",
              "      <th></th>\n",
              "      <th>id</th>\n",
              "      <th>season</th>\n",
              "      <th>city</th>\n",
              "      <th>date</th>\n",
              "      <th>team1</th>\n",
              "      <th>team2</th>\n",
              "      <th>toss_winner</th>\n",
              "      <th>toss_decision</th>\n",
              "      <th>result</th>\n",
              "      <th>dl_applied</th>\n",
              "      <th>winner</th>\n",
              "      <th>win_by_runs</th>\n",
              "      <th>win_by_wickets</th>\n",
              "      <th>player_of_match</th>\n",
              "      <th>venue</th>\n",
              "      <th>umpire1</th>\n",
              "      <th>umpire2</th>\n",
              "      <th>umpire3</th>\n",
              "    </tr>\n",
              "  </thead>\n",
              "  <tbody>\n",
              "    <tr>\n",
              "      <th>0</th>\n",
              "      <td>1</td>\n",
              "      <td>2017</td>\n",
              "      <td>Hyderabad</td>\n",
              "      <td>2017-04-05</td>\n",
              "      <td>Sunrisers Hyderabad</td>\n",
              "      <td>Royal Challengers Bangalore</td>\n",
              "      <td>Royal Challengers Bangalore</td>\n",
              "      <td>field</td>\n",
              "      <td>normal</td>\n",
              "      <td>0</td>\n",
              "      <td>Sunrisers Hyderabad</td>\n",
              "      <td>35</td>\n",
              "      <td>0</td>\n",
              "      <td>Yuvraj Singh</td>\n",
              "      <td>Rajiv Gandhi International Stadium, Uppal</td>\n",
              "      <td>AY Dandekar</td>\n",
              "      <td>NJ Llong</td>\n",
              "      <td>NaN</td>\n",
              "    </tr>\n",
              "    <tr>\n",
              "      <th>1</th>\n",
              "      <td>2</td>\n",
              "      <td>2017</td>\n",
              "      <td>Pune</td>\n",
              "      <td>2017-04-06</td>\n",
              "      <td>Mumbai Indians</td>\n",
              "      <td>Rising Pune Supergiant</td>\n",
              "      <td>Rising Pune Supergiant</td>\n",
              "      <td>field</td>\n",
              "      <td>normal</td>\n",
              "      <td>0</td>\n",
              "      <td>Rising Pune Supergiant</td>\n",
              "      <td>0</td>\n",
              "      <td>7</td>\n",
              "      <td>SPD Smith</td>\n",
              "      <td>Maharashtra Cricket Association Stadium</td>\n",
              "      <td>A Nand Kishore</td>\n",
              "      <td>S Ravi</td>\n",
              "      <td>NaN</td>\n",
              "    </tr>\n",
              "    <tr>\n",
              "      <th>2</th>\n",
              "      <td>3</td>\n",
              "      <td>2017</td>\n",
              "      <td>Rajkot</td>\n",
              "      <td>2017-04-07</td>\n",
              "      <td>Gujarat Lions</td>\n",
              "      <td>Kolkata Knight Riders</td>\n",
              "      <td>Kolkata Knight Riders</td>\n",
              "      <td>field</td>\n",
              "      <td>normal</td>\n",
              "      <td>0</td>\n",
              "      <td>Kolkata Knight Riders</td>\n",
              "      <td>0</td>\n",
              "      <td>10</td>\n",
              "      <td>CA Lynn</td>\n",
              "      <td>Saurashtra Cricket Association Stadium</td>\n",
              "      <td>Nitin Menon</td>\n",
              "      <td>CK Nandan</td>\n",
              "      <td>NaN</td>\n",
              "    </tr>\n",
              "    <tr>\n",
              "      <th>3</th>\n",
              "      <td>4</td>\n",
              "      <td>2017</td>\n",
              "      <td>Indore</td>\n",
              "      <td>2017-04-08</td>\n",
              "      <td>Rising Pune Supergiant</td>\n",
              "      <td>Kings XI Punjab</td>\n",
              "      <td>Kings XI Punjab</td>\n",
              "      <td>field</td>\n",
              "      <td>normal</td>\n",
              "      <td>0</td>\n",
              "      <td>Kings XI Punjab</td>\n",
              "      <td>0</td>\n",
              "      <td>6</td>\n",
              "      <td>GJ Maxwell</td>\n",
              "      <td>Holkar Cricket Stadium</td>\n",
              "      <td>AK Chaudhary</td>\n",
              "      <td>C Shamshuddin</td>\n",
              "      <td>NaN</td>\n",
              "    </tr>\n",
              "    <tr>\n",
              "      <th>4</th>\n",
              "      <td>5</td>\n",
              "      <td>2017</td>\n",
              "      <td>Bangalore</td>\n",
              "      <td>2017-04-08</td>\n",
              "      <td>Royal Challengers Bangalore</td>\n",
              "      <td>Delhi Daredevils</td>\n",
              "      <td>Royal Challengers Bangalore</td>\n",
              "      <td>bat</td>\n",
              "      <td>normal</td>\n",
              "      <td>0</td>\n",
              "      <td>Royal Challengers Bangalore</td>\n",
              "      <td>15</td>\n",
              "      <td>0</td>\n",
              "      <td>KM Jadhav</td>\n",
              "      <td>M Chinnaswamy Stadium</td>\n",
              "      <td>NaN</td>\n",
              "      <td>NaN</td>\n",
              "      <td>NaN</td>\n",
              "    </tr>\n",
              "    <tr>\n",
              "      <th>...</th>\n",
              "      <td>...</td>\n",
              "      <td>...</td>\n",
              "      <td>...</td>\n",
              "      <td>...</td>\n",
              "      <td>...</td>\n",
              "      <td>...</td>\n",
              "      <td>...</td>\n",
              "      <td>...</td>\n",
              "      <td>...</td>\n",
              "      <td>...</td>\n",
              "      <td>...</td>\n",
              "      <td>...</td>\n",
              "      <td>...</td>\n",
              "      <td>...</td>\n",
              "      <td>...</td>\n",
              "      <td>...</td>\n",
              "      <td>...</td>\n",
              "      <td>...</td>\n",
              "    </tr>\n",
              "    <tr>\n",
              "      <th>751</th>\n",
              "      <td>11347</td>\n",
              "      <td>2019</td>\n",
              "      <td>Mumbai</td>\n",
              "      <td>05/05/19</td>\n",
              "      <td>Kolkata Knight Riders</td>\n",
              "      <td>Mumbai Indians</td>\n",
              "      <td>Mumbai Indians</td>\n",
              "      <td>field</td>\n",
              "      <td>normal</td>\n",
              "      <td>0</td>\n",
              "      <td>Mumbai Indians</td>\n",
              "      <td>0</td>\n",
              "      <td>9</td>\n",
              "      <td>HH Pandya</td>\n",
              "      <td>Wankhede Stadium</td>\n",
              "      <td>Nanda Kishore</td>\n",
              "      <td>O Nandan</td>\n",
              "      <td>S Ravi</td>\n",
              "    </tr>\n",
              "    <tr>\n",
              "      <th>752</th>\n",
              "      <td>11412</td>\n",
              "      <td>2019</td>\n",
              "      <td>Chennai</td>\n",
              "      <td>07/05/19</td>\n",
              "      <td>Chennai Super Kings</td>\n",
              "      <td>Mumbai Indians</td>\n",
              "      <td>Chennai Super Kings</td>\n",
              "      <td>bat</td>\n",
              "      <td>normal</td>\n",
              "      <td>0</td>\n",
              "      <td>Mumbai Indians</td>\n",
              "      <td>0</td>\n",
              "      <td>6</td>\n",
              "      <td>AS Yadav</td>\n",
              "      <td>M. A. Chidambaram Stadium</td>\n",
              "      <td>Nigel Llong</td>\n",
              "      <td>Nitin Menon</td>\n",
              "      <td>Ian Gould</td>\n",
              "    </tr>\n",
              "    <tr>\n",
              "      <th>753</th>\n",
              "      <td>11413</td>\n",
              "      <td>2019</td>\n",
              "      <td>Visakhapatnam</td>\n",
              "      <td>08/05/19</td>\n",
              "      <td>Sunrisers Hyderabad</td>\n",
              "      <td>Delhi Capitals</td>\n",
              "      <td>Delhi Capitals</td>\n",
              "      <td>field</td>\n",
              "      <td>normal</td>\n",
              "      <td>0</td>\n",
              "      <td>Delhi Capitals</td>\n",
              "      <td>0</td>\n",
              "      <td>2</td>\n",
              "      <td>RR Pant</td>\n",
              "      <td>ACA-VDCA Stadium</td>\n",
              "      <td>NaN</td>\n",
              "      <td>NaN</td>\n",
              "      <td>NaN</td>\n",
              "    </tr>\n",
              "    <tr>\n",
              "      <th>754</th>\n",
              "      <td>11414</td>\n",
              "      <td>2019</td>\n",
              "      <td>Visakhapatnam</td>\n",
              "      <td>10/05/19</td>\n",
              "      <td>Delhi Capitals</td>\n",
              "      <td>Chennai Super Kings</td>\n",
              "      <td>Chennai Super Kings</td>\n",
              "      <td>field</td>\n",
              "      <td>normal</td>\n",
              "      <td>0</td>\n",
              "      <td>Chennai Super Kings</td>\n",
              "      <td>0</td>\n",
              "      <td>6</td>\n",
              "      <td>F du Plessis</td>\n",
              "      <td>ACA-VDCA Stadium</td>\n",
              "      <td>Sundaram Ravi</td>\n",
              "      <td>Bruce Oxenford</td>\n",
              "      <td>Chettithody Shamshuddin</td>\n",
              "    </tr>\n",
              "    <tr>\n",
              "      <th>755</th>\n",
              "      <td>11415</td>\n",
              "      <td>2019</td>\n",
              "      <td>Hyderabad</td>\n",
              "      <td>12/05/19</td>\n",
              "      <td>Mumbai Indians</td>\n",
              "      <td>Chennai Super Kings</td>\n",
              "      <td>Mumbai Indians</td>\n",
              "      <td>bat</td>\n",
              "      <td>normal</td>\n",
              "      <td>0</td>\n",
              "      <td>Mumbai Indians</td>\n",
              "      <td>1</td>\n",
              "      <td>0</td>\n",
              "      <td>JJ Bumrah</td>\n",
              "      <td>Rajiv Gandhi Intl. Cricket Stadium</td>\n",
              "      <td>Nitin Menon</td>\n",
              "      <td>Ian Gould</td>\n",
              "      <td>Nigel Llong</td>\n",
              "    </tr>\n",
              "  </tbody>\n",
              "</table>\n",
              "<p>752 rows × 18 columns</p>\n",
              "</div>"
            ],
            "text/plain": [
              "        id  season  ...         umpire2                  umpire3\n",
              "0        1    2017  ...        NJ Llong                      NaN\n",
              "1        2    2017  ...          S Ravi                      NaN\n",
              "2        3    2017  ...       CK Nandan                      NaN\n",
              "3        4    2017  ...   C Shamshuddin                      NaN\n",
              "4        5    2017  ...             NaN                      NaN\n",
              "..     ...     ...  ...             ...                      ...\n",
              "751  11347    2019  ...        O Nandan                   S Ravi\n",
              "752  11412    2019  ...     Nitin Menon                Ian Gould\n",
              "753  11413    2019  ...             NaN                      NaN\n",
              "754  11414    2019  ...  Bruce Oxenford  Chettithody Shamshuddin\n",
              "755  11415    2019  ...       Ian Gould              Nigel Llong\n",
              "\n",
              "[752 rows x 18 columns]"
            ]
          },
          "metadata": {
            "tags": []
          },
          "execution_count": 7
        }
      ]
    },
    {
      "cell_type": "code",
      "metadata": {
        "colab": {
          "base_uri": "https://localhost:8080/",
          "height": 430
        },
        "id": "F2_EOUOoIWUe",
        "outputId": "de92c60e-4ebe-4c10-fd7e-1582e9795aa7"
      },
      "source": [
        "toss_win_result = matches.groupby(['toss_winner']).winner.value_counts().reset_index(name=\"count\")\n",
        "toss_win_result['result']=np.where(toss_win_result.winner==toss_win_result.toss_winner,'won','lost')\n",
        "toss_win_result_df = toss_win_result.groupby(['toss_winner','result'])['count'].sum().reset_index()\n",
        "#Visualization\n",
        "plot = sns.barplot(x=\"toss_winner\", y=\"count\", hue=\"result\", data=toss_win_result_df)\n",
        "plot.set_title('Matches won/lost by teams winning toss ')\n",
        "plot.set_xticklabels(toss_win_result_df['toss_winner'].unique(),rotation=90)\n",
        "plt.show()"
      ],
      "execution_count": null,
      "outputs": [
        {
          "output_type": "display_data",
          "data": {
            "image/png": "[encoded data removed]",
            "text/plain": [
              "<Figure size 432x288 with 1 Axes>"
            ]
          },
          "metadata": {
            "tags": [],
            "needs_background": "light"
          }
        }
      ]
    },
    {
      "cell_type": "code",
      "metadata": {
        "id": "EbTSZrlEIaLm"
      },
      "source": [
        "venue_toss_decision_result=matches[[\"toss_winner\",\"toss_decision\",\"winner\",\"venue\"]]\n",
        "venue_toss_decision_result[\"decision\"]=np.where((venue_toss_decision_result.toss_winner == venue_toss_decision_result.winner) & (venue_toss_decision_result.toss_decision==\"field\"),\"field_won\",\"bat_won\")\n",
        "venue_result=venue_toss_decision_result.groupby([\"venue\"]).decision.value_counts().reset_index(name=\"count\")\n",
        "#Visualization\n",
        "sns.set(rc={'figure.figsize':(11.7,8.27)})\n",
        "plot = sns.barplot(x=\"venue\", y=\"count\", hue=\"decision\", data=venue_result)\n",
        "plot.set_title('Teams bat/field first results on venues')\n",
        "plot.set_xticklabels(venue_result['venue'].unique(),rotation=90)\n",
        "plt.show()"
      ],
      "execution_count": null,
      "outputs": []
    },
    {
      "cell_type": "code",
      "metadata": {
        "id": "h4NsXw1xIdjM"
      },
      "source": [
        "teams = list(set(matches.loc[:,'team1']))\n",
        "matches_won = [len(matches.loc[matches['winner'] == i]) for i in teams]\n",
        "plt.bar(np.arange(len(teams)), matches_won)\n",
        "plt.xticks(np.arange(len(teams)), teams, rotation='vertical')\n",
        "plt.ylabel('No. of Matches won')\n",
        "plt.xlabel('Teams')\n",
        "plt.title('No of matches won by different teams')\n"
      ],
      "execution_count": null,
      "outputs": []
    },
    {
      "cell_type": "code",
      "metadata": {
        "id": "Zaewr3zLIfy4"
      },
      "source": [
        "matches[\"team2\"]=matches[\"team2\"].replace(\"Rising Pune Supergiant\",\"Rising Pune Supergiants\")\n",
        "matches[\"team1\"]=matches[\"team1\"].replace(\"Rising Pune Supergiant\",\"Rising Pune Supergiants\")\n",
        "matches[\"winner\"]=matches[\"winner\"].replace(\"Rising Pune Supergiant\",\"Rising Pune Supergiants\")\n",
        "matches[\"toss_winner\"]=matches[\"toss_winner\"].replace(\"Rising Pune Supergiant\",\"Rising Pune Supergiants\")\n"
      ],
      "execution_count": null,
      "outputs": []
    },
    {
      "cell_type": "code",
      "metadata": {
        "id": "c572CQvCIh20",
        "colab": {
          "base_uri": "https://localhost:8080/"
        },
        "outputId": "8f131ed4-90d1-408a-f528-64b4bf8487aa"
      },
      "source": [
        "encoder= LabelEncoder()\n",
        "matches[\"team1\"]=encoder.fit_transform(matches[\"team1\"])\n",
        "print(encoder.classes_)\n",
        "print(matches['team1'])\n",
        "matches[\"team2\"]=encoder.fit_transform(matches[\"team2\"])\n",
        "print(encoder.classes_)\n",
        "matches[\"winner\"]=encoder.fit_transform(matches[\"winner\"].astype(str))\n",
        "matches[\"toss_winner\"]=encoder.fit_transform(matches[\"toss_winner\"])\n",
        "matches[\"venue\"]=encoder.fit_transform(matches[\"venue\"])\n",
        "print(encoder.classes_)\n",
        "\n",
        "#outcome variable as a probability of team1 winning\n",
        "matches.loc[matches[\"winner\"]==matches[\"team1\"],\"team1_win\"]=1\n",
        "matches.loc[matches[\"winner\"]!=matches[\"team1\"],\"team1_win\"]=0\n",
        "\n",
        "matches.loc[matches[\"toss_winner\"]==matches[\"team1\"],\"team1_toss_win\"]=1\n",
        "matches.loc[matches[\"toss_winner\"]!=matches[\"team1\"],\"team1_toss_win\"]=0\n",
        "\n",
        "matches[\"team1_bat\"]=0\n",
        "matches.loc[(matches[\"team1_toss_win\"]==1) & (matches[\"toss_decision\"]==\"bat\"),\"team1_bat\"]=1"
      ],
      "execution_count": null,
      "outputs": [
        {
          "output_type": "stream",
          "text": [
            "[ 0  1  2  3  4  5  6  7  8  9 10 11 12 13]\n",
            "0      13\n",
            "1       8\n",
            "2       4\n",
            "3      11\n",
            "4      12\n",
            "       ..\n",
            "751     7\n",
            "752     0\n",
            "753    13\n",
            "754     2\n",
            "755     8\n",
            "Name: team1, Length: 752, dtype: int64\n",
            "[ 0  1  2  3  4  5  6  7  8  9 10 11 12 13]\n",
            "[ 0  1  2  3  4  5  6  7  8  9 10 11 12 13 14 15 16 17 18 19 20 21 22 23\n",
            " 24 25 26 27 28 29 30 31 32 33 34 35 36 37 38 39 40]\n"
          ],
          "name": "stdout"
        }
      ]
    },
    {
      "cell_type": "code",
      "metadata": {
        "colab": {
          "base_uri": "https://localhost:8080/",
          "height": 517
        },
        "id": "4sOvxy-oIlZZ",
        "outputId": "aa8e8cae-f231-45b5-ba2f-43fa254a9b04"
      },
      "source": [
        "sns.countplot(x=\"team1_win\",data=matches)\n",
        "plt.show()"
      ],
      "execution_count": null,
      "outputs": [
        {
          "output_type": "display_data",
          "data": {
            "image/png": "[encoded data removed]",
            "text/plain": [
              "<Figure size 842.4x595.44 with 1 Axes>"
            ]
          },
          "metadata": {
            "tags": []
          }
        }
      ]
    },
    {
      "cell_type": "code",
      "metadata": {
        "id": "WuJoas1VIq1K"
      },
      "source": [
        "prediction_df=matches[[\"team1\",\"team2\",\"team1_toss_win\",\"team1_bat\",\"team1_win\",\"venue\"]]\n"
      ],
      "execution_count": null,
      "outputs": []
    },
    {
      "cell_type": "code",
      "metadata": {
        "colab": {
          "base_uri": "https://localhost:8080/",
          "height": 194
        },
        "id": "JJSqaV6fIs04",
        "outputId": "2c8d66c4-8cbc-49ee-cfc0-af69b5299526"
      },
      "source": [
        "correlated_features = set()\n",
        "correlation_matrix = prediction_df.drop('team1_win', axis=1).corr()\n",
        "correlation_matrix\n"
      ],
      "execution_count": null,
      "outputs": [
        {
          "output_type": "execute_result",
          "data": {
            "text/html": [
              "<div>\n",
              "<style scoped>\n",
              "    .dataframe tbody tr th:only-of-type {\n",
              "        vertical-align: middle;\n",
              "    }\n",
              "\n",
              "    .dataframe tbody tr th {\n",
              "        vertical-align: top;\n",
              "    }\n",
              "\n",
              "    .dataframe thead th {\n",
              "        text-align: right;\n",
              "    }\n",
              "</style>\n",
              "<table border=\"1\" class=\"dataframe\">\n",
              "  <thead>\n",
              "    <tr style=\"text-align: right;\">\n",
              "      <th></th>\n",
              "      <th>team1</th>\n",
              "      <th>team2</th>\n",
              "      <th>team1_toss_win</th>\n",
              "      <th>team1_bat</th>\n",
              "      <th>venue</th>\n",
              "    </tr>\n",
              "  </thead>\n",
              "  <tbody>\n",
              "    <tr>\n",
              "      <th>team1</th>\n",
              "      <td>1.000000</td>\n",
              "      <td>-0.108116</td>\n",
              "      <td>-0.116832</td>\n",
              "      <td>-0.116832</td>\n",
              "      <td>0.108240</td>\n",
              "    </tr>\n",
              "    <tr>\n",
              "      <th>team2</th>\n",
              "      <td>-0.108116</td>\n",
              "      <td>1.000000</td>\n",
              "      <td>-0.008782</td>\n",
              "      <td>-0.008782</td>\n",
              "      <td>0.084187</td>\n",
              "    </tr>\n",
              "    <tr>\n",
              "      <th>team1_toss_win</th>\n",
              "      <td>-0.116832</td>\n",
              "      <td>-0.008782</td>\n",
              "      <td>1.000000</td>\n",
              "      <td>1.000000</td>\n",
              "      <td>0.050049</td>\n",
              "    </tr>\n",
              "    <tr>\n",
              "      <th>team1_bat</th>\n",
              "      <td>-0.116832</td>\n",
              "      <td>-0.008782</td>\n",
              "      <td>1.000000</td>\n",
              "      <td>1.000000</td>\n",
              "      <td>0.050049</td>\n",
              "    </tr>\n",
              "    <tr>\n",
              "      <th>venue</th>\n",
              "      <td>0.108240</td>\n",
              "      <td>0.084187</td>\n",
              "      <td>0.050049</td>\n",
              "      <td>0.050049</td>\n",
              "      <td>1.000000</td>\n",
              "    </tr>\n",
              "  </tbody>\n",
              "</table>\n",
              "</div>"
            ],
            "text/plain": [
              "                   team1     team2  team1_toss_win  team1_bat     venue\n",
              "team1           1.000000 -0.108116       -0.116832  -0.116832  0.108240\n",
              "team2          -0.108116  1.000000       -0.008782  -0.008782  0.084187\n",
              "team1_toss_win -0.116832 -0.008782        1.000000   1.000000  0.050049\n",
              "team1_bat      -0.116832 -0.008782        1.000000   1.000000  0.050049\n",
              "venue           0.108240  0.084187        0.050049   0.050049  1.000000"
            ]
          },
          "metadata": {
            "tags": []
          },
          "execution_count": 15
        }
      ]
    },
    {
      "cell_type": "code",
      "metadata": {
        "id": "fqxD6sRqIudB"
      },
      "source": [
        "for i in range(len(correlation_matrix.columns)):\n",
        "    for j in range(i):\n",
        "        if abs(correlation_matrix.iloc[i, j]) > 0.8:\n",
        "            colname = correlation_matrix.columns[i]\n",
        "            correlated_features.add(colname)\n"
      ],
      "execution_count": null,
      "outputs": []
    },
    {
      "cell_type": "code",
      "metadata": {
        "colab": {
          "base_uri": "https://localhost:8080/",
          "height": 36
        },
        "id": "i-S0uuhdqvK7",
        "outputId": "65d9cc71-69b4-43e0-b029-6c9d12aa130b"
      },
      "source": [
        "colname"
      ],
      "execution_count": null,
      "outputs": [
        {
          "output_type": "execute_result",
          "data": {
            "application/vnd.google.colaboratory.intrinsic+json": {
              "type": "string"
            },
            "text/plain": [
              "'team1_bat'"
            ]
          },
          "metadata": {
            "tags": []
          },
          "execution_count": 17
        }
      ]
    },
    {
      "cell_type": "code",
      "metadata": {
        "id": "b6IaRC3rIwmt"
      },
      "source": [
        "prediction_df.drop(columns=correlated_features)\n",
        "\n",
        "#feature selection\n",
        "X = prediction_df.drop('team1_win', axis=1)\n",
        "target = prediction_df['team1_win']\n",
        "target=target.astype(int)"
      ],
      "execution_count": null,
      "outputs": []
    },
    {
      "cell_type": "code",
      "metadata": {
        "colab": {
          "base_uri": "https://localhost:8080/",
          "height": 399
        },
        "id": "KJBW74Toq4wo",
        "outputId": "546833aa-210a-4ed1-f548-3d5ae059840b"
      },
      "source": [
        "X"
      ],
      "execution_count": null,
      "outputs": [
        {
          "output_type": "execute_result",
          "data": {
            "text/html": [
              "<div>\n",
              "<style scoped>\n",
              "    .dataframe tbody tr th:only-of-type {\n",
              "        vertical-align: middle;\n",
              "    }\n",
              "\n",
              "    .dataframe tbody tr th {\n",
              "        vertical-align: top;\n",
              "    }\n",
              "\n",
              "    .dataframe thead th {\n",
              "        text-align: right;\n",
              "    }\n",
              "</style>\n",
              "<table border=\"1\" class=\"dataframe\">\n",
              "  <thead>\n",
              "    <tr style=\"text-align: right;\">\n",
              "      <th></th>\n",
              "      <th>team1</th>\n",
              "      <th>team2</th>\n",
              "      <th>team1_toss_win</th>\n",
              "      <th>team1_bat</th>\n",
              "      <th>venue</th>\n",
              "    </tr>\n",
              "  </thead>\n",
              "  <tbody>\n",
              "    <tr>\n",
              "      <th>0</th>\n",
              "      <td>13</td>\n",
              "      <td>12</td>\n",
              "      <td>0.0</td>\n",
              "      <td>0</td>\n",
              "      <td>28</td>\n",
              "    </tr>\n",
              "    <tr>\n",
              "      <th>1</th>\n",
              "      <td>8</td>\n",
              "      <td>11</td>\n",
              "      <td>0.0</td>\n",
              "      <td>0</td>\n",
              "      <td>21</td>\n",
              "    </tr>\n",
              "    <tr>\n",
              "      <th>2</th>\n",
              "      <td>4</td>\n",
              "      <td>7</td>\n",
              "      <td>0.0</td>\n",
              "      <td>0</td>\n",
              "      <td>31</td>\n",
              "    </tr>\n",
              "    <tr>\n",
              "      <th>3</th>\n",
              "      <td>11</td>\n",
              "      <td>5</td>\n",
              "      <td>0.0</td>\n",
              "      <td>0</td>\n",
              "      <td>13</td>\n",
              "    </tr>\n",
              "    <tr>\n",
              "      <th>4</th>\n",
              "      <td>12</td>\n",
              "      <td>3</td>\n",
              "      <td>1.0</td>\n",
              "      <td>1</td>\n",
              "      <td>17</td>\n",
              "    </tr>\n",
              "    <tr>\n",
              "      <th>...</th>\n",
              "      <td>...</td>\n",
              "      <td>...</td>\n",
              "      <td>...</td>\n",
              "      <td>...</td>\n",
              "      <td>...</td>\n",
              "    </tr>\n",
              "    <tr>\n",
              "      <th>751</th>\n",
              "      <td>7</td>\n",
              "      <td>8</td>\n",
              "      <td>0.0</td>\n",
              "      <td>0</td>\n",
              "      <td>40</td>\n",
              "    </tr>\n",
              "    <tr>\n",
              "      <th>752</th>\n",
              "      <td>0</td>\n",
              "      <td>8</td>\n",
              "      <td>1.0</td>\n",
              "      <td>1</td>\n",
              "      <td>18</td>\n",
              "    </tr>\n",
              "    <tr>\n",
              "      <th>753</th>\n",
              "      <td>13</td>\n",
              "      <td>2</td>\n",
              "      <td>0.0</td>\n",
              "      <td>0</td>\n",
              "      <td>0</td>\n",
              "    </tr>\n",
              "    <tr>\n",
              "      <th>754</th>\n",
              "      <td>2</td>\n",
              "      <td>0</td>\n",
              "      <td>0.0</td>\n",
              "      <td>0</td>\n",
              "      <td>0</td>\n",
              "    </tr>\n",
              "    <tr>\n",
              "      <th>755</th>\n",
              "      <td>8</td>\n",
              "      <td>0</td>\n",
              "      <td>1.0</td>\n",
              "      <td>1</td>\n",
              "      <td>29</td>\n",
              "    </tr>\n",
              "  </tbody>\n",
              "</table>\n",
              "<p>752 rows × 5 columns</p>\n",
              "</div>"
            ],
            "text/plain": [
              "     team1  team2  team1_toss_win  team1_bat  venue\n",
              "0       13     12             0.0          0     28\n",
              "1        8     11             0.0          0     21\n",
              "2        4      7             0.0          0     31\n",
              "3       11      5             0.0          0     13\n",
              "4       12      3             1.0          1     17\n",
              "..     ...    ...             ...        ...    ...\n",
              "751      7      8             0.0          0     40\n",
              "752      0      8             1.0          1     18\n",
              "753     13      2             0.0          0      0\n",
              "754      2      0             0.0          0      0\n",
              "755      8      0             1.0          1     29\n",
              "\n",
              "[752 rows x 5 columns]"
            ]
          },
          "metadata": {
            "tags": []
          },
          "execution_count": 19
        }
      ]
    },
    {
      "cell_type": "code",
      "metadata": {
        "colab": {
          "base_uri": "https://localhost:8080/"
        },
        "id": "R-Il5aybIy76",
        "outputId": "1a3bb166-b19a-4cb5-c6c3-b721c8b0bbab"
      },
      "source": [
        "logReg=LogisticRegression(solver='lbfgs')\n",
        "rfe = RFE(logReg, 20)\n",
        "rfe = rfe.fit(X, target.values.ravel())\n",
        "#Checking for the features of they are important\n",
        "print(rfe.support_)\n",
        "\n",
        "#Splitting the data into training and testing data and scaling it\n",
        "X_train, X_test, y_train, y_test = train_test_split(X, target, test_size=0.2, random_state=0)\n",
        "sc = StandardScaler()\n",
        "#X_train = sc.fit_transform(X_train)\n",
        "#X_test = sc.transform(X_test)\n",
        "\n",
        "#Logistic Regression\n",
        "logreg = LogisticRegression()\n",
        "logreg.fit(X_train, y_train)\n",
        "y_pred = logreg.predict(X_test)\n",
        "print(confusion_matrix(y_test,y_pred))\n",
        "print(classification_report(y_test,y_pred))\n",
        "print('Accuracy of logistic regression classifier on test set: {:.4f}'.format(logreg.score(X_test, y_test)))\n"
      ],
      "execution_count": null,
      "outputs": [
        {
          "output_type": "stream",
          "text": [
            "[ True  True  True  True  True]\n",
            "[[93  2]\n",
            " [56  0]]\n",
            "              precision    recall  f1-score   support\n",
            "\n",
            "           0       0.62      0.98      0.76        95\n",
            "           1       0.00      0.00      0.00        56\n",
            "\n",
            "    accuracy                           0.62       151\n",
            "   macro avg       0.31      0.49      0.38       151\n",
            "weighted avg       0.39      0.62      0.48       151\n",
            "\n",
            "Accuracy of logistic regression classifier on test set: 0.6159\n"
          ],
          "name": "stdout"
        }
      ]
    },
    {
      "cell_type": "code",
      "metadata": {
        "colab": {
          "base_uri": "https://localhost:8080/"
        },
        "id": "v8NxrcgyyiS7",
        "outputId": "5b97abaf-3b29-4793-ea5b-dd9981fd2f3e"
      },
      "source": [
        "X_train,y_train"
      ],
      "execution_count": null,
      "outputs": [
        {
          "output_type": "execute_result",
          "data": {
            "text/plain": [
              "(     team1  team2  team1_toss_win  team1_bat  venue\n",
              " 496      8      7             0.0          0      1\n",
              " 251      0      6             0.0          0     22\n",
              " 97       3      1             0.0          0      9\n",
              " 521      7     12             0.0          0      8\n",
              " 474     12      5             0.0          0      7\n",
              " ..     ...    ...             ...        ...    ...\n",
              " 710      8      0             0.0          0     40\n",
              " 192     10      5             0.0          0     27\n",
              " 632      4     12             0.0          0     17\n",
              " 561     12      8             1.0          1     40\n",
              " 687      3      0             0.0          0      9\n",
              " \n",
              " [601 rows x 5 columns], 496    0\n",
              " 251    0\n",
              " 97     1\n",
              " 521    0\n",
              " 474    0\n",
              "       ..\n",
              " 710    1\n",
              " 192    1\n",
              " 632    0\n",
              " 561    1\n",
              " 687    1\n",
              " Name: team1_win, Length: 601, dtype: int64)"
            ]
          },
          "metadata": {
            "tags": []
          },
          "execution_count": 21
        }
      ]
    },
    {
      "cell_type": "code",
      "metadata": {
        "colab": {
          "base_uri": "https://localhost:8080/"
        },
        "id": "XRv-RgrgI2a7",
        "outputId": "e0767796-7a33-4bda-d6f3-a4463889018b"
      },
      "source": [
        "#SVM\n",
        "svm=SVC()\n",
        "svm.fit(X_train,y_train)\n",
        "svm.score(X_test,y_test)\n",
        "y_pred = svm.predict(X_test)\n",
        "print(confusion_matrix(y_test,y_pred))\n",
        "print(classification_report(y_test,y_pred))\n",
        "print('Accuracy of SVM classifier on test set: {:.4f}'.format(svm.score(X_test, y_test)))\n"
      ],
      "execution_count": null,
      "outputs": [
        {
          "output_type": "stream",
          "text": [
            "[[95  0]\n",
            " [56  0]]\n",
            "              precision    recall  f1-score   support\n",
            "\n",
            "           0       0.63      1.00      0.77        95\n",
            "           1       0.00      0.00      0.00        56\n",
            "\n",
            "    accuracy                           0.63       151\n",
            "   macro avg       0.31      0.50      0.39       151\n",
            "weighted avg       0.40      0.63      0.49       151\n",
            "\n",
            "Accuracy of SVM classifier on test set: 0.6291\n"
          ],
          "name": "stdout"
        },
        {
          "output_type": "stream",
          "text": [
            "/usr/local/lib/python3.7/dist-packages/sklearn/metrics/_classification.py:1272: UndefinedMetricWarning: Precision and F-score are ill-defined and being set to 0.0 in labels with no predicted samples. Use `zero_division` parameter to control this behavior.\n",
            "  _warn_prf(average, modifier, msg_start, len(result))\n"
          ],
          "name": "stderr"
        }
      ]
    },
    {
      "cell_type": "code",
      "metadata": {
        "colab": {
          "base_uri": "https://localhost:8080/"
        },
        "id": "qQgg6XYUI6mH",
        "outputId": "e82c99b0-19f9-4b20-c433-9ee9ef45b769"
      },
      "source": [
        "#Decision Tree Classifier\n",
        "dtree=DecisionTreeClassifier()\n",
        "dtree.fit(X_train,y_train)\n",
        "dtree.score(X_test,y_test)\n",
        "y_pred = dtree.predict(X_test)\n",
        "print(confusion_matrix(y_test,y_pred))\n",
        "print(classification_report(y_test,y_pred))\n",
        "print('Accuracy of decision tree classifier on test set: {:.4f}'.format(dtree.score(X_test, y_test)))\n"
      ],
      "execution_count": null,
      "outputs": [
        {
          "output_type": "stream",
          "text": [
            "[[62 33]\n",
            " [27 29]]\n",
            "              precision    recall  f1-score   support\n",
            "\n",
            "           0       0.70      0.65      0.67        95\n",
            "           1       0.47      0.52      0.49        56\n",
            "\n",
            "    accuracy                           0.60       151\n",
            "   macro avg       0.58      0.59      0.58       151\n",
            "weighted avg       0.61      0.60      0.61       151\n",
            "\n",
            "Accuracy of decision tree classifier on test set: 0.6026\n"
          ],
          "name": "stdout"
        }
      ]
    },
    {
      "cell_type": "code",
      "metadata": {
        "colab": {
          "base_uri": "https://localhost:8080/"
        },
        "id": "Cj8wOSLbI9GJ",
        "outputId": "c5905aa4-7cdb-4028-fc50-7fe875cca9f5"
      },
      "source": [
        "#Random Forest Classifier\n",
        "randomForest= RandomForestClassifier(n_estimators=800,min_samples_leaf=8,min_impurity_decrease=0.00000000001,max_leaf_nodes=2,min_samples_split=4)\n",
        "randomForest.fit(X_train,y_train)\n",
        "randomForest.score(X_test,y_test)\n",
        "y_pred = randomForest.predict(X_test)\n",
        "print(\"Confusion matrix\\n\",confusion_matrix(y_test,y_pred))\n",
        "print(classification_report(y_test,y_pred))\n",
        "print('Accuracy of random forest classifier on test set: {:.4f}'.format(randomForest.score(X_test, y_test)))"
      ],
      "execution_count": null,
      "outputs": [
        {
          "output_type": "stream",
          "text": [
            "Confusion matrix\n",
            " [[90  5]\n",
            " [50  6]]\n",
            "              precision    recall  f1-score   support\n",
            "\n",
            "           0       0.64      0.95      0.77        95\n",
            "           1       0.55      0.11      0.18        56\n",
            "\n",
            "    accuracy                           0.64       151\n",
            "   macro avg       0.59      0.53      0.47       151\n",
            "weighted avg       0.61      0.64      0.55       151\n",
            "\n",
            "Accuracy of random forest classifier on test set: 0.6358\n"
          ],
          "name": "stdout"
        }
      ]
    },
    {
      "cell_type": "code",
      "metadata": {
        "id": "rBX33eEgI_eH"
      },
      "source": [
        "pickle.dump(randomForest,open('pred_win.pkl','wb'))"
      ],
      "execution_count": null,
      "outputs": []
    },
    {
      "cell_type": "code",
      "metadata": {
        "id": "kAdCDkodtBeA"
      },
      "source": [
        "k=pickle.load(open('pred_win.pkl','rb'))"
      ],
      "execution_count": null,
      "outputs": []
    },
    {
      "cell_type": "code",
      "metadata": {
        "colab": {
          "base_uri": "https://localhost:8080/"
        },
        "id": "z18swBM1ukSs",
        "outputId": "278f5e4f-9d7a-4032-c476-26d839a1896e"
      },
      "source": [
        "k.oob_score"
      ],
      "execution_count": null,
      "outputs": [
        {
          "output_type": "execute_result",
          "data": {
            "text/plain": [
              "False"
            ]
          },
          "metadata": {
            "tags": []
          },
          "execution_count": 51
        }
      ]
    },
    {
      "cell_type": "code",
      "metadata": {
        "colab": {
          "base_uri": "https://localhost:8080/",
          "height": 399
        },
        "id": "n53JWPaIyCbO",
        "outputId": "95364abc-7fbc-4cee-eba1-db8842d052c9"
      },
      "source": [
        "X_test"
      ],
      "execution_count": null,
      "outputs": [
        {
          "output_type": "execute_result",
          "data": {
            "text/html": [
              "<div>\n",
              "<style scoped>\n",
              "    .dataframe tbody tr th:only-of-type {\n",
              "        vertical-align: middle;\n",
              "    }\n",
              "\n",
              "    .dataframe tbody tr th {\n",
              "        vertical-align: top;\n",
              "    }\n",
              "\n",
              "    .dataframe thead th {\n",
              "        text-align: right;\n",
              "    }\n",
              "</style>\n",
              "<table border=\"1\" class=\"dataframe\">\n",
              "  <thead>\n",
              "    <tr style=\"text-align: right;\">\n",
              "      <th></th>\n",
              "      <th>team1</th>\n",
              "      <th>team2</th>\n",
              "      <th>team1_toss_win</th>\n",
              "      <th>team1_bat</th>\n",
              "      <th>venue</th>\n",
              "    </tr>\n",
              "  </thead>\n",
              "  <tbody>\n",
              "    <tr>\n",
              "      <th>650</th>\n",
              "      <td>10</td>\n",
              "      <td>7</td>\n",
              "      <td>0.0</td>\n",
              "      <td>0</td>\n",
              "      <td>32</td>\n",
              "    </tr>\n",
              "    <tr>\n",
              "      <th>142</th>\n",
              "      <td>8</td>\n",
              "      <td>12</td>\n",
              "      <td>1.0</td>\n",
              "      <td>1</td>\n",
              "      <td>23</td>\n",
              "    </tr>\n",
              "    <tr>\n",
              "      <th>416</th>\n",
              "      <td>8</td>\n",
              "      <td>12</td>\n",
              "      <td>1.0</td>\n",
              "      <td>1</td>\n",
              "      <td>40</td>\n",
              "    </tr>\n",
              "    <tr>\n",
              "      <th>79</th>\n",
              "      <td>1</td>\n",
              "      <td>12</td>\n",
              "      <td>1.0</td>\n",
              "      <td>1</td>\n",
              "      <td>28</td>\n",
              "    </tr>\n",
              "    <tr>\n",
              "      <th>214</th>\n",
              "      <td>8</td>\n",
              "      <td>5</td>\n",
              "      <td>1.0</td>\n",
              "      <td>1</td>\n",
              "      <td>27</td>\n",
              "    </tr>\n",
              "    <tr>\n",
              "      <th>...</th>\n",
              "      <td>...</td>\n",
              "      <td>...</td>\n",
              "      <td>...</td>\n",
              "      <td>...</td>\n",
              "      <td>...</td>\n",
              "    </tr>\n",
              "    <tr>\n",
              "      <th>467</th>\n",
              "      <td>7</td>\n",
              "      <td>12</td>\n",
              "      <td>0.0</td>\n",
              "      <td>0</td>\n",
              "      <td>34</td>\n",
              "    </tr>\n",
              "    <tr>\n",
              "      <th>118</th>\n",
              "      <td>12</td>\n",
              "      <td>10</td>\n",
              "      <td>1.0</td>\n",
              "      <td>1</td>\n",
              "      <td>24</td>\n",
              "    </tr>\n",
              "    <tr>\n",
              "      <th>448</th>\n",
              "      <td>13</td>\n",
              "      <td>10</td>\n",
              "      <td>1.0</td>\n",
              "      <td>1</td>\n",
              "      <td>28</td>\n",
              "    </tr>\n",
              "    <tr>\n",
              "      <th>578</th>\n",
              "      <td>5</td>\n",
              "      <td>4</td>\n",
              "      <td>0.0</td>\n",
              "      <td>0</td>\n",
              "      <td>26</td>\n",
              "    </tr>\n",
              "    <tr>\n",
              "      <th>755</th>\n",
              "      <td>8</td>\n",
              "      <td>0</td>\n",
              "      <td>1.0</td>\n",
              "      <td>1</td>\n",
              "      <td>29</td>\n",
              "    </tr>\n",
              "  </tbody>\n",
              "</table>\n",
              "<p>151 rows × 5 columns</p>\n",
              "</div>"
            ],
            "text/plain": [
              "     team1  team2  team1_toss_win  team1_bat  venue\n",
              "650     10      7             0.0          0     32\n",
              "142      8     12             1.0          1     23\n",
              "416      8     12             1.0          1     40\n",
              "79       1     12             1.0          1     28\n",
              "214      8      5             1.0          1     27\n",
              "..     ...    ...             ...        ...    ...\n",
              "467      7     12             0.0          0     34\n",
              "118     12     10             1.0          1     24\n",
              "448     13     10             1.0          1     28\n",
              "578      5      4             0.0          0     26\n",
              "755      8      0             1.0          1     29\n",
              "\n",
              "[151 rows x 5 columns]"
            ]
          },
          "metadata": {
            "tags": []
          },
          "execution_count": 54
        }
      ]
    },
    {
      "cell_type": "code",
      "metadata": {
        "colab": {
          "base_uri": "https://localhost:8080/"
        },
        "id": "rCdjm37L0yCb",
        "outputId": "ef71dff1-7b6b-4ab0-8a1a-c939c98a8536"
      },
      "source": [
        "y_test"
      ],
      "execution_count": null,
      "outputs": [
        {
          "output_type": "execute_result",
          "data": {
            "text/plain": [
              "650    0\n",
              "142    0\n",
              "416    1\n",
              "79     0\n",
              "214    0\n",
              "      ..\n",
              "467    1\n",
              "118    1\n",
              "448    1\n",
              "578    0\n",
              "755    1\n",
              "Name: team1_win, Length: 151, dtype: int64"
            ]
          },
          "metadata": {
            "tags": []
          },
          "execution_count": 55
        }
      ]
    },
    {
      "cell_type": "code",
      "metadata": {
        "colab": {
          "base_uri": "https://localhost:8080/"
        },
        "id": "wCjV032U00G4",
        "outputId": "ebd7ee53-848c-440c-b18b-283936dbc257"
      },
      "source": [
        "y_pred"
      ],
      "execution_count": null,
      "outputs": [
        {
          "output_type": "execute_result",
          "data": {
            "text/plain": [
              "array([0, 0, 0, 0, 0, 0, 0, 0, 0, 0, 0, 0, 0, 0, 0, 1, 0, 0, 0, 0, 0, 0,\n",
              "       0, 1, 0, 0, 0, 1, 0, 0, 0, 0, 0, 0, 0, 0, 0, 0, 0, 0, 0, 0, 0, 0,\n",
              "       0, 0, 0, 0, 0, 0, 0, 0, 0, 0, 0, 0, 0, 0, 0, 0, 0, 0, 0, 0, 0, 1,\n",
              "       0, 0, 1, 0, 0, 0, 0, 0, 0, 0, 0, 0, 0, 0, 0, 0, 0, 0, 1, 0, 0, 0,\n",
              "       0, 0, 1, 0, 0, 0, 0, 0, 0, 0, 0, 0, 0, 0, 0, 0, 0, 0, 0, 0, 0, 1,\n",
              "       0, 0, 0, 0, 0, 1, 0, 0, 0, 0, 0, 0, 0, 1, 0, 1, 0, 0, 0, 0, 0, 0,\n",
              "       0, 0, 0, 0, 0, 0, 0, 0, 0, 0, 0, 0, 0, 0, 0, 0, 0, 0, 0])"
            ]
          },
          "metadata": {
            "tags": []
          },
          "execution_count": 56
        }
      ]
    },
    {
      "cell_type": "code",
      "metadata": {
        "id": "65KWbg_x01u-",
        "colab": {
          "base_uri": "https://localhost:8080/"
        },
        "outputId": "b42b2554-dea0-4f69-dd99-6fb458493734"
      },
      "source": [
        "matches['venue'].value_counts()"
      ],
      "execution_count": null,
      "outputs": [
        {
          "output_type": "execute_result",
          "data": {
            "text/plain": [
              "Eden Gardens                                            77\n",
              "Wankhede Stadium                                        73\n",
              "M Chinnaswamy Stadium                                   73\n",
              "Feroz Shah Kotla                                        67\n",
              "Rajiv Gandhi International Stadium, Uppal               56\n",
              "MA Chidambaram Stadium, Chepauk                         49\n",
              "Sawai Mansingh Stadium                                  47\n",
              "Punjab Cricket Association Stadium, Mohali              35\n",
              "Maharashtra Cricket Association Stadium                 21\n",
              "Subrata Roy Sahara Stadium                              17\n",
              "Dr DY Patil Sports Academy                              17\n",
              "Kingsmead                                               15\n",
              "Punjab Cricket Association IS Bindra Stadium, Mohali    14\n",
              "Sardar Patel Stadium, Motera                            12\n",
              "SuperSport Park                                         12\n",
              "Brabourne Stadium                                       11\n",
              "Dr. Y.S. Rajasekhara Reddy ACA-VDCA Cricket Stadium     11\n",
              "Saurashtra Cricket Association Stadium                  10\n",
              "Himachal Pradesh Cricket Association Stadium             9\n",
              "Holkar Cricket Stadium                                   9\n",
              "New Wanderers Stadium                                    8\n",
              "M. A. Chidambaram Stadium                                8\n",
              "Rajiv Gandhi Intl. Cricket Stadium                       8\n",
              "M. Chinnaswamy Stadium                                   7\n",
              "Barabati Stadium                                         7\n",
              "Feroz Shah Kotla Ground                                  7\n",
              "Sheikh Zayed Stadium                                     7\n",
              "IS Bindra Stadium                                        7\n",
              "Dubai International Cricket Stadium                      7\n",
              "JSCA International Stadium Complex                       7\n",
              "Newlands                                                 7\n",
              "St George's Park                                         7\n",
              "Shaheed Veer Narayan Singh International Stadium         6\n",
              "Sharjah Cricket Stadium                                  6\n",
              "Nehru Stadium                                            5\n",
              "Green Park                                               4\n",
              "Buffalo Park                                             3\n",
              "Vidarbha Cricket Association Stadium, Jamtha             3\n",
              "De Beers Diamond Oval                                    3\n",
              "OUTsurance Oval                                          2\n",
              "ACA-VDCA Stadium                                         2\n",
              "Name: venue, dtype: int64"
            ]
          },
          "metadata": {
            "tags": []
          },
          "execution_count": 4
        }
      ]
    },
    {
      "cell_type": "code",
      "metadata": {
        "colab": {
          "base_uri": "https://localhost:8080/"
        },
        "id": "dgP1ig22ixtV",
        "outputId": "d7bc08a8-4fc7-49f9-abe7-b70b3684176c"
      },
      "source": [
        "encoder.classes_"
      ],
      "execution_count": null,
      "outputs": [
        {
          "output_type": "execute_result",
          "data": {
            "text/plain": [
              "array([ 0,  1,  2,  3,  4,  5,  6,  7,  8,  9, 10, 11, 12, 13, 14, 15, 16,\n",
              "       17, 18, 19, 20, 21, 22, 23, 24, 25, 26, 27, 28, 29, 30, 31, 32, 33,\n",
              "       34, 35, 36, 37, 38, 39, 40])"
            ]
          },
          "metadata": {
            "tags": []
          },
          "execution_count": 28
        }
      ]
    },
    {
      "cell_type": "code",
      "metadata": {
        "colab": {
          "base_uri": "https://localhost:8080/"
        },
        "id": "7FUMxBY9jnew",
        "outputId": "8e4c060d-510b-4de2-f288-ff4f5a31898a"
      },
      "source": [
        "matches['venue']"
      ],
      "execution_count": null,
      "outputs": [
        {
          "output_type": "execute_result",
          "data": {
            "text/plain": [
              "0      28\n",
              "1      21\n",
              "2      31\n",
              "3      13\n",
              "4      17\n",
              "       ..\n",
              "751    40\n",
              "752    18\n",
              "753     0\n",
              "754     0\n",
              "755    29\n",
              "Name: venue, Length: 752, dtype: int64"
            ]
          },
          "metadata": {
            "tags": []
          },
          "execution_count": 29
        }
      ]
    },
    {
      "cell_type": "code",
      "metadata": {
        "id": "JQ3-mLyyjyE1"
      },
      "source": [
        ""
      ],
      "execution_count": null,
      "outputs": []
    }
  ]
}